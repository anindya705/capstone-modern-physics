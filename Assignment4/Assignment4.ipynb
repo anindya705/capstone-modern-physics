{
 "cells": [
  {
   "cell_type": "markdown",
   "source": [
    "### Emission Lines of Hydrogen"
   ],
   "metadata": {}
  },
  {
   "cell_type": "markdown",
   "source": [
    "Created by Natasha Proctor\n",
    "\n",
    "The background information below contains excerpts from Computational Physics by Mark Newman, Physics for Scientists and Engineers by Knight."
   ],
   "metadata": {}
  },
  {
   "cell_type": "code",
   "execution_count": 23,
   "source": [
    "from IPython.display import Image\n",
    "from IPython.core.display import HTML "
   ],
   "outputs": [],
   "metadata": {}
  },
  {
   "cell_type": "markdown",
   "source": [
    "When Bohr introduced his model of the atom, he contributed two new concepts to the Rutherford model that came from Einstein's ides of quanta:\n",
    "1. Only certain electron orbitals can exist\n",
    "2. An atom can jump from one state to another by emitting or absorbing a photon of just the right frequency to conserve energy"
   ],
   "metadata": {}
  },
  {
   "cell_type": "markdown",
   "source": [
    "One of the critical implications of the Bohr model is that atoms emit and absorb a discrete spectrum. Only those photons whos frequencies match the energy intervals between the stational states can be emitted or absorbed. Photons of other frequencies cannot be emitted or absorbed without violating energy conservation. "
   ],
   "metadata": {}
  },
  {
   "cell_type": "code",
   "execution_count": 24,
   "source": [
    "Image(url= \"https://d2vlcm61l7u1fs.cloudfront.net/media%2Fc80%2Fc80b5243-669e-43e4-abc6-9d8feb1cabff%2FphpqbgcTM.png\")"
   ],
   "outputs": [
    {
     "output_type": "execute_result",
     "data": {
      "text/html": [
       "<img src=\"https://d2vlcm61l7u1fs.cloudfront.net/media%2Fc80%2Fc80b5243-669e-43e4-abc6-9d8feb1cabff%2FphpqbgcTM.png\"/>"
      ],
      "text/plain": [
       "<IPython.core.display.Image object>"
      ]
     },
     "metadata": {},
     "execution_count": 24
    }
   ],
   "metadata": {}
  },
  {
   "cell_type": "markdown",
   "source": [
    "In 1888 Johannes Rydberg published his famous formula for the wavelengths $\\lambda$ of the emission lines of the hydrogen atom. "
   ],
   "metadata": {}
  },
  {
   "cell_type": "code",
   "execution_count": null,
   "source": [],
   "outputs": [],
   "metadata": {}
  },
  {
   "cell_type": "markdown",
   "source": [
    "$$ \\frac{1}{\\lambda} = R \\left( \\frac{1}{n_1^2} - \\frac{1}{n_2^2} \\right) $$"
   ],
   "metadata": {}
  },
  {
   "cell_type": "markdown",
   "source": [
    "where $R$ is the Rydberg constant $R = 1.097\\ \\times\\ 10^{-2} nm^{-1}$ and $n_1$ and $n_2$ are positive integers. For a given value of $n_1$, the wavelengths $\\lambda$ given by this formula for all $n_2 > n_1$ form a series. The first three such series, for $n_1$ = 1, 2, and 3, being known as the Lyman, Balmer, and Paschen series, after their respective discoverers. These series are illustrated in the image above."
   ],
   "metadata": {}
  },
  {
   "cell_type": "markdown",
   "source": [
    "#### Part 1: Calculating the wavelength of an absorbed photon"
   ],
   "metadata": {}
  },
  {
   "cell_type": "markdown",
   "source": [
    "Write a python program that takes $n_1$ and $n_2$ as parameters and returns the wavelength of the absorbed photon."
   ],
   "metadata": {}
  },
  {
   "cell_type": "code",
   "execution_count": 25,
   "source": [
    "R = 1.097E-2 #Rydberg constant [nm^(-1)]\n",
    "\n"
   ],
   "outputs": [],
   "metadata": {}
  },
  {
   "cell_type": "code",
   "execution_count": 26,
   "source": [
    "### TO DO: Write a function that uses n1, n2 and R to calculate the wavelength\n",
    "### DON'T FORGET YOUR DOC STRING!\n",
    "def wavelength(n1, n2): \n",
    "    return (R*((1/n1**2) - (1/n2**2)))**-1\n",
    "\n",
    "    # takes n1 and n2 (positive integers) as parameters and calculates wavelength from "
   ],
   "outputs": [],
   "metadata": {}
  },
  {
   "cell_type": "markdown",
   "source": [],
   "metadata": {}
  },
  {
   "cell_type": "code",
   "execution_count": 27,
   "source": [
    "assert( abs(wavelength(1, 2) - 121.54) < 0.01 )"
   ],
   "outputs": [],
   "metadata": {}
  },
  {
   "cell_type": "markdown",
   "source": [
    "#### Part 2: Wavelength of a photon absorbed during ionization"
   ],
   "metadata": {}
  },
  {
   "cell_type": "markdown",
   "source": [
    "Notice as the value of $n$ get very large, the energy levels converge to a value. This value is $E = 0$ eV and occurs at $ n = \\infty$. This state is known as the ionization limit."
   ],
   "metadata": {}
  },
  {
   "cell_type": "markdown",
   "source": [
    "We can calculate the ground state energy of the Hydrogen atom by finding the ionization energy. The ionization energy is the amount of energy needed for the electron to transition from $n=1$ to $n=\\infty$. In other words, the amount of energy needed to remove the electron entirely from the atom in its ground state."
   ],
   "metadata": {}
  },
  {
   "cell_type": "markdown",
   "source": [
    "Analytically, find an expression for $\\lambda$ as $n_2 \\rightarrow \\infty$. Write this equation below using LaTeX."
   ],
   "metadata": {}
  },
  {
   "cell_type": "markdown",
   "source": [
    "$As \\space n_2 \\rightarrow \\infty, \\lambda \\rightarrow \\frac{(n1) ^ 2}{R}$"
   ],
   "metadata": {}
  },
  {
   "cell_type": "markdown",
   "source": [
    "As n2 goes to infinity, lambda will go to (n1)^2 / R because the fraction (1/n2^2) goes to zero. Hence, the function is now 1/lambda = R(1/n1^2). If we take the inverse, we get what lambda goes to. "
   ],
   "metadata": {}
  },
  {
   "cell_type": "markdown",
   "source": [
    "Instead of purely calculating the ionization energy, we can expand our functionality and calculate the electron binding energy. This is the amount of energy needed for the electron to transition from $n = m$ to $n = \\infty$ where $m \\ge 1$. \n",
    "\n",
    "Using your analytical solution above, write an equation that determines the wavelength of a photon absorbed when an atom is ionized from an integer state $n$."
   ],
   "metadata": {}
  },
  {
   "cell_type": "code",
   "execution_count": 28,
   "source": [
    "# takes ionization integer state n and returns wavelength of photon\n",
    "\n",
    "def calculateBinding(n1):\n",
    "    return (R*((1/(n1**2)))) ** -1"
   ],
   "outputs": [],
   "metadata": {}
  },
  {
   "cell_type": "code",
   "execution_count": 58,
   "source": [
    "### TO DO: Write an assert statement\n",
    "print(calculateBinding(1.00001)-1/R)\n",
    "test_function=calculateBinding(1.00001)-1/R\n",
    "\n",
    "assert(calculateBinding(1) - 1/(R) < 0.01)"
   ],
   "outputs": [
    {
     "output_type": "stream",
     "name": "stdout",
     "text": [
      "0.001823163172304021\n"
     ]
    }
   ],
   "metadata": {}
  },
  {
   "cell_type": "markdown",
   "source": [
    "#### Part 3: Finding the frequency"
   ],
   "metadata": {}
  },
  {
   "cell_type": "markdown",
   "source": [
    "The frequency of the absorbed photon can be calculated from the wavelength and velocity of the wave. Since a photon is an electromagnetic wave, the velocity is the speed of light $c = 2.998 \\times 10^{8} m/s$. \n",
    "\n",
    "(Don't forget to convert $\\lambda$ from $nm$ to $m$)\n",
    "$$ f = \\frac{c}{\\lambda} $$"
   ],
   "metadata": {}
  },
  {
   "cell_type": "markdown",
   "source": [
    "Write a function that calculates the frequency of an electromagnetic wave from a known wavelength."
   ],
   "metadata": {}
  },
  {
   "cell_type": "code",
   "execution_count": 30,
   "source": [
    "c = 2.998E8 # Speed of light [m/s]"
   ],
   "outputs": [],
   "metadata": {}
  },
  {
   "cell_type": "code",
   "execution_count": 31,
   "source": [
    "### TO DO: Add a function to determine your frequency\n",
    "#calculates frequency from fr\n",
    "def calculateFrequency(l):\n",
    "    return (c/l)*1E9\n",
    "    \n"
   ],
   "outputs": [],
   "metadata": {}
  },
  {
   "cell_type": "code",
   "execution_count": 32,
   "source": [
    "assert(calculateFrequency(c) == 1E9)"
   ],
   "outputs": [],
   "metadata": {}
  },
  {
   "cell_type": "markdown",
   "source": [
    "#### Part 4: Finding the energy"
   ],
   "metadata": {}
  },
  {
   "cell_type": "markdown",
   "source": [
    "Finally, using that frequency and Planck's constant ($h = 6.626 \\times 10^{-34} Js$) we can find the energy of the photon. (Note: $1 eV = 1.602 \\times 10^{-19} J)$\n",
    "\n",
    "$$ E = hf $$"
   ],
   "metadata": {}
  },
  {
   "cell_type": "code",
   "execution_count": 33,
   "source": [
    "eV = 1.602E-19 # Electron Volt conversion [J]\n",
    "h = 6.626E-34 # Planck's constant [Js]"
   ],
   "outputs": [],
   "metadata": {}
  },
  {
   "cell_type": "code",
   "execution_count": 44,
   "source": [
    "# uses frequency as parameter to calculate energy\n",
    "\n",
    "def calculateEnergy(f):\n",
    "    return (h * f) / eV"
   ],
   "outputs": [],
   "metadata": {}
  },
  {
   "cell_type": "code",
   "execution_count": 45,
   "source": [
    "# TO DO: Add AT LEAST one assert statement to test your function\n",
    "test_function = h/eV\n",
    "assert(calculateEnergy(1) == test_function)"
   ],
   "outputs": [],
   "metadata": {}
  },
  {
   "cell_type": "markdown",
   "source": [
    "#### Part 5: Bringing it together"
   ],
   "metadata": {}
  },
  {
   "cell_type": "markdown",
   "source": [
    "Using all of the functions you've created so far, create one master equation that accepts a state $n_1$ and returns the electron binding energy (i.e. the energy of the photon absorbed)."
   ],
   "metadata": {}
  },
  {
   "cell_type": "code",
   "execution_count": 61,
   "source": [
    "# Don't change the name/parameters of this function -- I use it in a graph below\n",
    "def binding_energy(n1):\n",
    "    return calculateEnergy(calculateFrequency(calculateBinding(n1)))"
   ],
   "outputs": [],
   "metadata": {}
  },
  {
   "cell_type": "code",
   "execution_count": 62,
   "source": [
    "print(binding_energy(1))"
   ],
   "outputs": [
    {
     "output_type": "stream",
     "name": "stdout",
     "text": [
      "13.60276439200999\n"
     ]
    }
   ],
   "metadata": {}
  },
  {
   "cell_type": "markdown",
   "source": [
    "Run your function above using $n_1 = 1$. This is the ionization energy. From conservation of energy, we know the energy of the absorbed photon must be equal to the energy gained by the electron. Since the electron moved from the ground state to the $E = 0$ eV state  during ionization, the ground state energy must be equal to the $-E_{photon}$"
   ],
   "metadata": {}
  },
  {
   "cell_type": "markdown",
   "source": [
    "Therefore, what is the energy of the ground state of the Hydrogen atom? Answer below. (You can check your answer using Google)"
   ],
   "metadata": {}
  },
  {
   "cell_type": "code",
   "execution_count": 38,
   "source": [
    "print(binding_energy(1))"
   ],
   "outputs": [
    {
     "output_type": "stream",
     "name": "stdout",
     "text": [
      "13.60276439200999\n"
     ]
    }
   ],
   "metadata": {}
  },
  {
   "cell_type": "markdown",
   "source": [
    "#### Part 6: Visualizing Results"
   ],
   "metadata": {}
  },
  {
   "cell_type": "markdown",
   "source": [
    "Using your function that calculates wavelengths, we can create our own Hydrogen emissions spectrum visualization. Run the cells below to check it out."
   ],
   "metadata": {}
  },
  {
   "cell_type": "code",
   "execution_count": 39,
   "source": [
    "import matplotlib.pyplot as plt\n",
    "import numpy as np\n",
    "from ipywidgets import interact, fixed"
   ],
   "outputs": [],
   "metadata": {}
  },
  {
   "cell_type": "code",
   "execution_count": 63,
   "source": [
    "# In order for this to run correctly, you must have the binding_energy implemented correctly\n",
    "# If you have any issues with this, e-mail me or ask in class I'll help you debug.\n",
    "\n",
    "def plot_spectrum(lines):\n",
    "    f = plt.figure(figsize=(8,20)) # <-- modify these numbers to change the size of the image\n",
    "    n = np.linspace(1,lines,lines)\n",
    "    x = np.linspace(1,10,10)\n",
    "    energies = -binding_energy(n)\n",
    "    for i in range(len(energies)):\n",
    "        y = np.ones(10) * energies[i]\n",
    "        plt.plot(x, y)\n",
    "        plt.ylim(-14, 1)\n",
    "        plt.xlim(-2, 12)\n",
    "        plt.text(x[0] - 1, y[0], \"n = {i}\".format(i = i+1))\n",
    "        plt.ylabel(\"Energy (eV)\")\n",
    "        plt.title(\"Energy level diagram of the Hydrogen atom\")\n",
    "        plt.gca().axes.get_xaxis().set_visible(False)\n",
    "    plt.show()"
   ],
   "outputs": [],
   "metadata": {}
  },
  {
   "cell_type": "code",
   "execution_count": 64,
   "source": [
    "interact(plot_spectrum, lines = (1,20));"
   ],
   "outputs": [
    {
     "output_type": "display_data",
     "data": {
      "application/vnd.jupyter.widget-view+json": {
       "version_major": 2,
       "version_minor": 0,
       "model_id": "4c21c0f5698d41659351a68b5e3e22a6"
      },
      "text/plain": [
       "interactive(children=(IntSlider(value=10, description='lines', max=20, min=1), Output()), _dom_classes=('widge…"
      ]
     },
     "metadata": {}
    }
   ],
   "metadata": {}
  }
 ],
 "metadata": {
  "kernelspec": {
   "name": "python3",
   "display_name": "Python 3.8.3 64-bit"
  },
  "language_info": {
   "codemirror_mode": {
    "name": "ipython",
    "version": 3
   },
   "file_extension": ".py",
   "mimetype": "text/x-python",
   "name": "python",
   "nbconvert_exporter": "python",
   "pygments_lexer": "ipython3",
   "version": "3.8.3"
  },
  "interpreter": {
   "hash": "aee8b7b246df8f9039afb4144a1f6fd8d2ca17a180786b69acc140d282b71a49"
  }
 },
 "nbformat": 4,
 "nbformat_minor": 2
}