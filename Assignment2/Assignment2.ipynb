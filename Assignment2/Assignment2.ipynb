{
 "cells": [
  {
   "cell_type": "markdown",
   "source": [
    "The following exercise is from <u> Computational Physics </u> by Mark Newman"
   ],
   "metadata": {}
  },
  {
   "cell_type": "markdown",
   "source": [
    "### Exercise 2.6: Planetary Orbits"
   ],
   "metadata": {}
  },
  {
   "cell_type": "markdown",
   "source": [
    "The orbit in space of one body around another, such as planets around the Sun, need not be circular. In general it takes the form of an ellipse, with the body sometimes closer in and sometimes further out. If you are given the distance $l_1$ of the closest approach that a planet makes to the Sun, also called <i>perihelion</i>, and its linear velocity $v_1$ at perihelion, then any other property of the orbit can be calculated from these two as follows."
   ],
   "metadata": {}
  },
  {
   "cell_type": "markdown",
   "source": [
    "<b>a)</b> Kepler's second law tells us that the distance $l_2$ and velocity $v_2$ of the planet at its most distant point, or <i>aphelion</i>, satisfies $l_2v_2 = l_1v_1$. At the same time the total energy, kinetic plus gravitational, of a planet with velocity $v$ and distance $r$ from the Sun is given by:\n",
    "$$ E = \\frac{1}{2} m v^{2} - G \\frac{mM}{r}$$\n",
    "where $m$ is the planet's mass, $M = 1.9891 \\times 10^{30}\\ kg$ is the mass of the Sun, and $G = 6.6738 \\times 10^{-11}\\ m^3kg^{-1}s^{-2}$ is Newton's gravitational constant. \n",
    "\n",
    "Given that energy must be conserved, $v_2$ is the smaller root of the quadratic equation:\n",
    "\n",
    "$$v_2^2 - \\frac{2GM}{v_1 l_1}v_2 - \\left[v_1^2 - \\frac{2GM}{l_1}\\right] = 0 $$"
   ],
   "metadata": {}
  },
  {
   "cell_type": "markdown",
   "source": [
    "Once we solve for $v_2$ we can calculate $l_2$ using the relation $l_2 = l_1 v_1 / v_2$."
   ],
   "metadata": {}
  },
  {
   "cell_type": "code",
   "execution_count": 21,
   "source": [
    "# TO DO: By hand, solve for v_2 using quadratic equation above (note: if you do it right, it reduced very nicely)\n",
    "\n",
    "# BONUS CHALLENGE: Can you write the equation for v_2 using LaTex?     \n",
    "\n",
    "# To format an equation using Latex, make sure you're in a Markdown cell. \n",
    "# Wrap everything you want formatted in dollar signs, for example: $ y = ax + b $\n",
    "# Reference my equations above to see how it works! \n",
    "# (Also Google is your best friend when it comes to LaTex)\n",
    "from numpy import sqrt\n",
    "from math import pi"
   ],
   "outputs": [],
   "metadata": {}
  },
  {
   "cell_type": "markdown",
   "source": [
    "<b>b)</b> Given the value of $v_1$, $l_1$, and $l_2$, other paramters of the orbit are given by simple formulas that can be derived from Kepler's laws and the fact that the orbit is an ellipse:\n",
    "\n",
    "\n",
    "Semi-major axis: $a = \\frac{1}{2} (l_1 + l_2) $\n",
    "\n",
    "Semi-minor axis: $ b = \\sqrt{l_1 l_2} $\n",
    "\n",
    "Orbital period: $ T = \\frac{2\\pi a b}{l_1 v_1} $\n",
    "\n",
    "Orbital eccentricity: $e = \\frac{l_2 - l_1}{l_2 + l_1} $"
   ],
   "metadata": {}
  },
  {
   "cell_type": "markdown",
   "source": [
    "Write a function that takes the distance to the Sun and the velocity at perihelion, then calculates and print the quantities $l_2$, $v_2$, $T$ and $e$."
   ],
   "metadata": {}
  },
  {
   "cell_type": "code",
   "execution_count": 22,
   "source": [
    "# TO DO: Write a function that takes v_1, l_1, G, and M as parameters, and calculates l_2, v_2, T, and e.\n",
    "# MAKE SURE YOU COMMENT YOUR CODE\n",
    "def solve(g, m, v1, l1): \n",
    "    v2 = (2*g*m)/(l1*v1) - v1 # Transferred solved equation from problem 1\n",
    "    print(v2)\n",
    "    l2 = l1 * (v1/v2) # Solving for l1 with respect to answer given in v2\n",
    "    print(l2)\n",
    "    a = (0.5)* (l1 + l2) # Making the Semi-major axis\n",
    "    b = sqrt(l1*l2) # Semi minor axis\n",
    "    T = (2*pi*a*b)/(l1*v1)# calculate orbital period\n",
    "    print(T)\n",
    "    e = (l2-l1)/(l2+l1) #calculate oribtal eccentricity\n",
    "    print(e)"
   ],
   "outputs": [],
   "metadata": {}
  },
  {
   "cell_type": "markdown",
   "source": [
    "<b> c) </b> Test your program by having it calculate the properties of the orbits of the Earth (for which $l_1 = 1.4710 \\times 10^{11} m$ and $v_1 = 3.0287 \\times 10^4 ms^{-1}$)\n",
    "\n",
    "(You should find the orbital period of the Earth is one year)"
   ],
   "metadata": {}
  },
  {
   "cell_type": "code",
   "execution_count": 23,
   "source": [
    "# TO DO: Calculate the properties of Earth's orbit\n",
    "# MAKE SURE YOU COMMENT YOUR CODE\n",
    "solve(6.6738 * (10**(-11)), 1.9891 * (10**30), 3.0287 * (10**4), 1.4710 * (10**11))\n",
    "\n",
    "# using constant parameters g and m, with l1 and v1 of orbits of earth, show v2, l1, T, and e"
   ],
   "outputs": [
    {
     "output_type": "stream",
     "name": "stdout",
     "text": [
      "29305.3991772613\n",
      "152027197208.65976\n",
      "31543060.207886893\n",
      "0.016471913134741584\n"
     ]
    }
   ],
   "metadata": {}
  },
  {
   "cell_type": "markdown",
   "source": [
    "<b> d) </b> Test your program by having it calculate the properties of the orbit of Halley's comet ($l_1 = 8.7830 \\times 10^{10} m$ and $v_1 = 5.4529 \\times 10^4 ms^{-1}$). \n",
    "\n",
    "What is the orbital period of Halley's comet?"
   ],
   "metadata": {}
  },
  {
   "cell_type": "code",
   "execution_count": 24,
   "source": [
    "# TO DO: Calculate the properties of Earth's orbit\n",
    "# MAKE SURE YOU COMMENT YOUR CODE\n",
    "solve(6.6738 * (10**(-11)), 1.9891 * (10**30),5.4529 * (10**4), 8.7830 * (10**10))\n",
    "\n",
    "# using constant parameters g and m, with l1 and v1 of orbits of haleys comet, show v2, l1, T, and e"
   ],
   "outputs": [
    {
     "output_type": "stream",
     "name": "stdout",
     "text": [
      "906.6806969191457\n",
      "5282214660876.462\n",
      "2399312511.8452015\n",
      "0.9672889126454062\n"
     ]
    }
   ],
   "metadata": {}
  }
 ],
 "metadata": {
  "kernelspec": {
   "name": "python3",
   "display_name": "Python 3.8.3 64-bit"
  },
  "language_info": {
   "codemirror_mode": {
    "name": "ipython",
    "version": 3
   },
   "file_extension": ".py",
   "mimetype": "text/x-python",
   "name": "python",
   "nbconvert_exporter": "python",
   "pygments_lexer": "ipython3",
   "version": "3.8.3"
  },
  "interpreter": {
   "hash": "aee8b7b246df8f9039afb4144a1f6fd8d2ca17a180786b69acc140d282b71a49"
  }
 },
 "nbformat": 4,
 "nbformat_minor": 2
}